{
  "cells": [
    {
      "cell_type": "markdown",
      "metadata": {
        "id": "EUjJ7ImLnPVr"
      },
      "source": [
        "# Exercise W2-AU Fundamentals of Python Programming\n",
        "\n",
        "這個練習主要讓同學了解如何將一個變數的值輸入到Python程式"
      ]
    },
    {
      "cell_type": "markdown",
      "metadata": {
        "id": "kLe1GoiTtrgI"
      },
      "source": [
        "## Ex2-1:輸入攝氏溫度轉成華氏溫度\n",
        "$FDegree = CDegree \\times \\frac{9}{5} + 32$"
      ]
    },
    {
      "cell_type": "markdown",
      "metadata": {
        "id": "cHiXWmApnZ_W"
      },
      "source": [
        "### Step 1: 宣告一個攝氏溫度的變數"
      ]
    },
    {
      "cell_type": "code",
      "execution_count": 4,
      "metadata": {
        "id": "8JL0O3Dw0hVK",
        "outputId": "614fdf86-ca6a-431d-f990-740f86b6f31b",
        "colab": {
          "base_uri": "https://localhost:8080/"
        }
      },
      "outputs": [
        {
          "output_type": "stream",
          "name": "stdout",
          "text": [
            "0.0\n"
          ]
        }
      ],
      "source": [
        "CDegree = 0.0\n",
        "print(CDegree)"
      ]
    },
    {
      "cell_type": "markdown",
      "metadata": {
        "id": "XBxsl5E23SuC"
      },
      "source": [
        "### Step 2: 使用input()輸入攝氏溫度的值"
      ]
    },
    {
      "cell_type": "code",
      "execution_count": 7,
      "metadata": {
        "id": "PBlTlafx3Poe",
        "outputId": "412ce3e5-37a9-4374-e4fe-899ec02a3da4",
        "colab": {
          "base_uri": "https://localhost:8080/"
        }
      },
      "outputs": [
        {
          "name": "stdout",
          "output_type": "stream",
          "text": [
            "0\n"
          ]
        }
      ],
      "source": [
        "CDegree = input()            #<-?\n",
        "CDegree = float(CDegree)"
      ]
    },
    {
      "cell_type": "markdown",
      "metadata": {
        "id": "qcqXjo083bW5"
      },
      "source": [
        "### Step 3: 計算華氏溫度 $FDegree = CDegree \\times \\frac{9}{5} + 32$"
      ]
    },
    {
      "cell_type": "code",
      "execution_count": 8,
      "metadata": {
        "id": "eF-jycTxnY9-",
        "outputId": "21d9223d-e64a-4aa8-a086-bc4b3faa3920",
        "colab": {
          "base_uri": "https://localhost:8080/"
        }
      },
      "outputs": [
        {
          "output_type": "stream",
          "name": "stdout",
          "text": [
            "32.0\n"
          ]
        }
      ],
      "source": [
        "FDegree = CDegree*(9/5)+32            #<-?\n",
        "print(FDegree)"
      ]
    },
    {
      "cell_type": "markdown",
      "metadata": {
        "id": "kclzQu9N31o5"
      },
      "source": [
        "## Ex2-2(練習2-2):計算BMI(Body Mass Index) 身體質量指數\n",
        "$BMI = \\frac{體重_{公斤}}{身高_{公尺}^2}$ $BMI = \\frac{weight_{kg}}{height_{m}^2}$"
      ]
    },
    {
      "cell_type": "markdown",
      "metadata": {
        "id": "ZTf06rZe4sdl"
      },
      "source": [
        "### Step 4: 宣告二個變數：體重和身高"
      ]
    },
    {
      "cell_type": "code",
      "execution_count": 9,
      "metadata": {
        "id": "7AzrK1j_npYa",
        "outputId": "a9966cca-28d5-4440-a7b2-82f1bf355982",
        "colab": {
          "base_uri": "https://localhost:8080/"
        }
      },
      "outputs": [
        {
          "output_type": "stream",
          "name": "stdout",
          "text": [
            "Weight =  1.0  Height =  1.0\n"
          ]
        }
      ],
      "source": [
        "weight = 1.0\n",
        "height = 1.0\n",
        "print(\"Weight = \", weight, \" Height = \", height,)"
      ]
    },
    {
      "cell_type": "markdown",
      "metadata": {
        "id": "bYlm5Mld5Pcu"
      },
      "source": [
        "Step 5: 使用input(), 輸入體重和身高"
      ]
    },
    {
      "cell_type": "code",
      "execution_count": 13,
      "metadata": {
        "id": "7w4uuKYj5T2C",
        "outputId": "9fa2c1e3-3782-446f-9226-db0c8603c1b5",
        "colab": {
          "base_uri": "https://localhost:8080/"
        }
      },
      "outputs": [
        {
          "name": "stdout",
          "output_type": "stream",
          "text": [
            "Weight (kg):43\n",
            "height(m):1.68\n"
          ]
        }
      ],
      "source": [
        "weight = input(\"Weight (kg):\")\n",
        "weight = float(weight)\n",
        "height = input(\"height(m):\")#<-?\n",
        "\n",
        "height = float(height)#<-?"
      ]
    },
    {
      "cell_type": "markdown",
      "metadata": {
        "id": "Hl4NR03P5Xb6"
      },
      "source": [
        "### Step 6: 計算BMI $BMI = \\frac{體重_{公斤}}{身高_{公尺}^2}$ $BMI = \\frac{weight_{kg}}{height_{m}^2}$"
      ]
    },
    {
      "cell_type": "code",
      "execution_count": 14,
      "metadata": {
        "id": "EbZnPm_GnzgW",
        "outputId": "c16b5575-8e1d-4afe-b6ac-0afa94b6a2c6",
        "colab": {
          "base_uri": "https://localhost:8080/"
        }
      },
      "outputs": [
        {
          "output_type": "stream",
          "name": "stdout",
          "text": [
            "BMI= 15.235260770975058\n"
          ]
        }
      ],
      "source": [
        "bmi = weight/(height**2)#<-?\n",
        "print(\"BMI=\", bmi);"
      ]
    },
    {
      "cell_type": "code",
      "execution_count": null,
      "metadata": {
        "id": "H1OLx_ro4E37"
      },
      "outputs": [],
      "source": [
        "\n"
      ]
    }
  ],
  "metadata": {
    "colab": {
      "name": "AUPython-Ex2.ipynb",
      "provenance": []
    },
    "kernelspec": {
      "display_name": "Python 3",
      "language": "python",
      "name": "python3"
    },
    "language_info": {
      "codemirror_mode": {
        "name": "ipython",
        "version": 3
      },
      "file_extension": ".py",
      "mimetype": "text/x-python",
      "name": "python",
      "nbconvert_exporter": "python",
      "pygments_lexer": "ipython3",
      "version": "3.7.6"
    }
  },
  "nbformat": 4,
  "nbformat_minor": 0
}